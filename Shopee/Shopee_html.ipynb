{
 "cells": [
  {
   "cell_type": "code",
   "execution_count": 1,
   "metadata": {},
   "outputs": [],
   "source": [
    "import requests \n",
    "import json\n",
    "import jmespath\n",
    "from jsonpath import jsonpath\n",
    "from bs4 import BeautifulSoup\n",
    "\n",
    "\n",
    "header={'user-agent':'Mozilla/5.0 (Windows NT 10.0; Win64; x64) AppleWebKit/537.36 (KHTML, like Gecko) Chrome/89.0.4389.82 Safari/537.36','Referrer Policy': 'strict-origin-when-cross-origin'}\n",
    "\n",
    "url = \"https://shopee.tw/api/v2/search_items/?by=relevancy&keyword=%E6%A1%8C%E9%81%8A&limit=0&newest=0&order=desc&page_type=search&version=2\"\n",
    "\n",
    "final_data = []\n",
    "\n",
    "for time in range(2):\n",
    "    url = \"https://shopee.tw/api/v4/product/get_shop_info?shopid=\" + json_data[0]['shopid']\n",
    "    res = requests.get(url , headers=header)\n",
    "    clean_needed = res.text\n",
    "    json_data = json.loads(clean)\n",
    "    final_data.append(json_data)"
   ]
  },
  {
   "cell_type": "code",
   "execution_count": null,
   "metadata": {},
   "outputs": [],
   "source": []
  }
 ],
 "metadata": {
  "kernelspec": {
   "display_name": "Python 3",
   "language": "python",
   "name": "python3"
  },
  "language_info": {
   "codemirror_mode": {
    "name": "ipython",
    "version": 3
   },
   "file_extension": ".py",
   "mimetype": "text/x-python",
   "name": "python",
   "nbconvert_exporter": "python",
   "pygments_lexer": "ipython3",
   "version": "3.7.4"
  }
 },
 "nbformat": 4,
 "nbformat_minor": 2
}
