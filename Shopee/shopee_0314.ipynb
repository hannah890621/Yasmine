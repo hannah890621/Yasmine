{
 "cells": [
  {
   "cell_type": "markdown",
   "metadata": {},
   "source": [
    "# 匯入套件"
   ]
  },
  {
   "cell_type": "code",
   "execution_count": 1,
   "metadata": {},
   "outputs": [],
   "source": [
    "import requests\n",
    "import urllib\n",
    "import json\n",
    "from jsonpath import jsonpath\n",
    "import jmespath\n",
    "import pandas as pd\n",
    "from datetime import datetime,timedelta\n",
    "import time"
   ]
  },
  {
   "cell_type": "markdown",
   "metadata": {},
   "source": [
    "# HTTP 請求參數與鏈接"
   ]
  },
  {
   "cell_type": "code",
   "execution_count": 2,
   "metadata": {},
   "outputs": [],
   "source": [
    "def get_link_headers():\n",
    "    keyword = '桌遊'\n",
    "    headers = {\n",
    "        'user-agent': 'Mozilla/5.0 (Windows NT 10.0; Win64; x64) AppleWebKit/537.36 (KHTML, like Gecko) Chrome/88.0.4324.150 Safari/537.36 Edg/88.0.705.68',\n",
    "        'x-api-source': 'pc',\n",
    "        'referer': f'https://shopee.tw/search?keyword={urllib.parse.quote(keyword)}'\n",
    "    }\n",
    "    \n",
    "    s = requests.Session()\n",
    "    url = 'https://shopee.tw/api/v4/search/product_labels'\n",
    "    r = s.get(url, headers=headers)\n",
    "    return s,headers"
   ]
  },
  {
   "cell_type": "markdown",
   "metadata": {},
   "source": [
    "# 獲取api內容"
   ]
  },
  {
   "cell_type": "code",
   "execution_count": 3,
   "metadata": {},
   "outputs": [],
   "source": [
    "def get_api_content(url):\n",
    "    s,headers=get_link_headers()\n",
    "    r = s.get(url, headers=headers)\n",
    "    clean_needed = r.text\n",
    "    json_data = json.loads('['+clean_needed+']')\n",
    "    return json_data"
   ]
  },
  {
   "cell_type": "markdown",
   "metadata": {},
   "source": [
    "# 商店部分"
   ]
  },
  {
   "cell_type": "code",
   "execution_count": 6,
   "metadata": {},
   "outputs": [],
   "source": [
    "def shop():\n",
    "    time=0\n",
    "    for shoptime in df['商店api']:\n",
    "        temp=jmespath.search('[].data.name',get_api_content(shoptime))\n",
    "        df.loc[time,'店鋪名稱']=temp[0]\n",
    "        time+=1\n",
    "    return df"
   ]
  },
  {
   "cell_type": "markdown",
   "metadata": {},
   "source": [
    "# 商品部分"
   ]
  },
  {
   "cell_type": "code",
   "execution_count": 7,
   "metadata": {},
   "outputs": [],
   "source": [
    "def item():\n",
    "    time=0\n",
    "    for itemtime in df['商品api']:\n",
    "        temp0=jmespath.search('[].item.models[].price',get_api_content(itemtime))\n",
    "        df.loc[time,'選項售價']=\",\".join(str(x/100000) for x in temp0)\n",
    "        temp1=jmespath.search('[].item.models[].sold',get_api_content(itemtime))\n",
    "        df.loc[time,'選項銷量']=\",\".join(str(x) for x in temp1)\n",
    "        time+=1\n",
    "    return df"
   ]
  },
  {
   "cell_type": "code",
   "execution_count": 4,
   "metadata": {},
   "outputs": [],
   "source": [
    "final_data = []\n",
    "for time in range(1):\n",
    "    time*=50\n",
    "    url = f'https://shopee.tw/api/v2/search_items/?by=relevancy&keyword=桌遊&limit=50&newest={time}&order=desc&page_type=search&version=2'\n",
    "    result=jmespath.search('[].items[*].{\"店家帳號\":shopid,\"上架時間\":ctime,\"上架天數\":ctime,\"itemID\":itemid,\"商品標題\":name,\"商品網址\":[name,shopid,itemid],\"總銷售件數\":historical_sold,\"30天內銷售件數\":sold,\"售價\":[price_min,price_max],\"平均日銷(總銷件/上架天數)\":[historical_sold,ctime],\"喜歡數\":liked_count,\"消費潛力(總銷件/喜歡數)\":[historical_sold,liked_count],\"評價數\":cmt_count,\"評價綜合分數\":item_rating.rating_star,\"給評率(幾個評價/總銷件)\":[cmt_count,historical_sold],\"商品選項\":tier_variations[0].options,\"商品api\":[itemid,shopid],\"商店api\":shopid}',get_api_content(url))\n",
    "    final_data.append(result)\n",
    "df = pd.DataFrame(final_data[0][0])"
   ]
  },
  {
   "cell_type": "code",
   "execution_count": 5,
   "metadata": {},
   "outputs": [],
   "source": [
    "df['上架時間']=df['上架時間'].apply(lambda x:datetime.fromtimestamp(x))\n",
    "df['上架天數']=df['上架天數'].apply(lambda x:(datetime.now()-datetime.fromtimestamp(x)).days)\n",
    "df['商品網址']=df['商品網址'].apply(lambda x:\"http://shopee.tw/\"+str(x[0])+\"-i.\"+str(x[1])+'.'+str(x[2]))\n",
    "df['售價']=df['售價'].apply(lambda x:[int(a/100000) for a in x])\n",
    "df['平均日銷(總銷件/上架天數)']=df['平均日銷(總銷件/上架天數)'].apply(lambda x:(x[0]/(datetime.now()-datetime.fromtimestamp(x[1])).days))\n",
    "df['消費潛力(總銷件/喜歡數)']=df['消費潛力(總銷件/喜歡數)'].apply(lambda x:0 if x[1]==0 else (x[0]/x[1]))\n",
    "df['給評率(幾個評價/總銷件)']=df['給評率(幾個評價/總銷件)'].apply(lambda x:0 if x[1]==0 else (x[0]/x[1]))\n",
    "df['商品api']=df['商品api'].apply(lambda x:\"https://shopee.tw/api/v2/item/get?itemid=\"+str(x[0])+\"&shopid=\"+str(x[1]))\n",
    "df['商店api']=df['商店api'].apply(lambda x:\"https://shopee.tw/api/v4/product/get_shop_info?shopid=\"+str(x))"
   ]
  },
  {
   "cell_type": "code",
   "execution_count": 8,
   "metadata": {},
   "outputs": [],
   "source": [
    "for time in range(len(df)):\n",
    "    df.loc[time,'售價']=\",\".join(str(x) for x in df.loc[time,'售價'])\n",
    "    df.loc[time,'商品選項']=\",\".join(x for x in df.loc[time,'商品選項'])"
   ]
  },
  {
   "cell_type": "code",
   "execution_count": 11,
   "metadata": {},
   "outputs": [],
   "source": [
    "today = time.strftime(\"%Y%m%d\")\n",
    "df.to_csv(f\"{today}.csv\",index=False)"
   ]
  }
 ],
 "metadata": {
  "kernelspec": {
   "display_name": "Python 3",
   "language": "python",
   "name": "python3"
  },
  "language_info": {
   "codemirror_mode": {
    "name": "ipython",
    "version": 3
   },
   "file_extension": ".py",
   "mimetype": "text/x-python",
   "name": "python",
   "nbconvert_exporter": "python",
   "pygments_lexer": "ipython3",
   "version": "3.8.3"
  }
 },
 "nbformat": 4,
 "nbformat_minor": 4
}
